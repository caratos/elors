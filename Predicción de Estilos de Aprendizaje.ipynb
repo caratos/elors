{
 "cells": [
  {
   "cell_type": "code",
   "execution_count": 1,
   "metadata": {},
   "outputs": [
    {
     "name": "stderr",
     "output_type": "stream",
     "text": [
      "/home/carlos/anaconda2/envs/py36/lib/python3.6/importlib/_bootstrap.py:219: RuntimeWarning: numpy.dtype size changed, may indicate binary incompatibility. Expected 96, got 88\n",
      "  return f(*args, **kwds)\n"
     ]
    }
   ],
   "source": [
    "#importando las librerías de lectura\n",
    "import numpy as np\n",
    "import pandas as pd"
   ]
  },
  {
   "cell_type": "code",
   "execution_count": null,
   "metadata": {},
   "outputs": [],
   "source": [
    "#importando las librerías especializadas\n",
    "from sklearn.metrics import confusion_matrix\n",
    "from sklearn.ensemble import RandomForestClassifier\n",
    "from sklearn.datasets import make_classification\n",
    "from sklearn.svm import SVC"
   ]
  },
  {
   "cell_type": "code",
   "execution_count": 119,
   "metadata": {},
   "outputs": [],
   "source": [
    "#Creando clases para normalizar una región de la matriz\n",
    "class Normalizer:\n",
    "    matrix = []\n",
    "    m = 0\n",
    "    n = 0\n",
    "    \n",
    "    def __init__(self, matrix):\n",
    "        self.matrix = matrix\n",
    "        self.m,self.n = matrix.shape\n",
    "    \n",
    "    def getKeyValuesFromColumn(self,colIdx):\n",
    "        values = np.unique(self.matrix[:,colIdx])\n",
    "        keyValues = {}\n",
    "        for val in values:\n",
    "            keyValues[val] = len(keyValues)\n",
    "        return keyValues\n",
    "        \n",
    "    def changeColumnToNumericInterval(self,colIdx):\n",
    "        keyValues = self.getKeyValuesFromColumn(colIdx)\n",
    "            \n",
    "        for i in range(self.m):\n",
    "            self.matrix[i][colIdx] = keyValues[self.matrix[i][colIdx]]\n",
    "            \n",
    "    \n",
    "    def toStandard(self, colIdx):\n",
    "        col = self.matrix[:,colIdx]\n",
    "        mean = np.mean(col)\n",
    "        std = np.std(col)\n",
    "        \n",
    "        self.matrix[:,colIdx]-=mean\n",
    "        self.matrix[:,colIdx]/=std\n",
    "        \n",
    "    def getMatrix(self):\n",
    "        return np.asarray(self.matrix, dtype=float)\n",
    "    "
   ]
  },
  {
   "cell_type": "code",
   "execution_count": 91,
   "metadata": {},
   "outputs": [
    {
     "name": "stdout",
     "output_type": "stream",
     "text": [
      "(591, 20)\n",
      "(591, 1)\n"
     ]
    }
   ],
   "source": [
    "#Leyendo X , Y\n",
    "X = pd.read_csv('x.csv', sep=';')\n",
    "Y = pd.read_csv('y.csv', sep=';')\n",
    "print(X.shape)\n",
    "print(Y.shape)"
   ]
  },
  {
   "cell_type": "code",
   "execution_count": 121,
   "metadata": {},
   "outputs": [],
   "source": [
    "#Normalizando los datos\n",
    "xNorm = Normalizer(X.values)\n",
    "yNorm = Normalizer(Y.values)\n",
    "\n",
    "\n",
    "#Normalizando X\n",
    "xNorm.changeColumnToNumericInterval(0) #salon\n",
    "xNorm.changeColumnToNumericInterval(1) #colegio\n",
    "xNorm.changeColumnToNumericInterval(2) #sexo\n",
    "xNorm.changeColumnToNumericInterval(3) #Edad\n",
    "xNorm.changeColumnToNumericInterval(19) #Interpretación\n",
    "\n",
    "\n",
    "xNorm.toStandard(7) #latitud\n",
    "xNorm.toStandard(8) #longitud\n",
    "xNorm.toStandard(18) #Puntaje Logrado\n",
    "\n",
    "#Normalizando Y\n",
    "yNorm.changeColumnToNumericInterval(0)"
   ]
  },
  {
   "cell_type": "code",
   "execution_count": 129,
   "metadata": {},
   "outputs": [
    {
     "data": {
      "text/plain": [
       "SVC(C=1.0, cache_size=200, class_weight=None, coef0=0.0,\n",
       "  decision_function_shape='ovr', degree=3, gamma='auto', kernel='rbf',\n",
       "  max_iter=-1, probability=False, random_state=None, shrinking=True,\n",
       "  tol=0.001, verbose=False)"
      ]
     },
     "execution_count": 129,
     "metadata": {},
     "output_type": "execute_result"
    }
   ],
   "source": [
    "#Entrenando el modelo SVM\n",
    "from sklearn.svm import SVC\n",
    "clf = SVC(gamma='auto')\n",
    "newX, newY = xNorm.getMatrix(), yNorm.getMatrix()\n",
    "m,n = newX.shape\n",
    "\n",
    "#Entrenando\n",
    "newY = newY.ravel();\n",
    "clf.fit(newX, newY) "
   ]
  },
  {
   "cell_type": "code",
   "execution_count": 130,
   "metadata": {},
   "outputs": [
    {
     "name": "stdout",
     "output_type": "stream",
     "text": [
      "Precision consigo mismo:  54.653130287648054\n"
     ]
    }
   ],
   "source": [
    "#Probando consigo mismo\n",
    "predictedY = clf.predict(newX)\n",
    "precision = 0\n",
    "for i in range(m):\n",
    "    if predictedY[i] == newY[i]:\n",
    "        precision+=1\n",
    "\n",
    "print(\"Precision consigo mismo: \", (precision*100.0/m))"
   ]
  },
  {
   "cell_type": "code",
   "execution_count": null,
   "metadata": {},
   "outputs": [],
   "source": []
  }
 ],
 "metadata": {
  "kernelspec": {
   "display_name": "Python 3",
   "language": "python",
   "name": "python3"
  },
  "language_info": {
   "codemirror_mode": {
    "name": "ipython",
    "version": 3
   },
   "file_extension": ".py",
   "mimetype": "text/x-python",
   "name": "python",
   "nbconvert_exporter": "python",
   "pygments_lexer": "ipython3",
   "version": "3.6.4"
  }
 },
 "nbformat": 4,
 "nbformat_minor": 2
}
